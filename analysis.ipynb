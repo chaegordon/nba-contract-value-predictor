{
 "cells": [
  {
   "cell_type": "markdown",
   "metadata": {},
   "source": [
    "# Workbook"
   ]
  },
  {
   "cell_type": "code",
   "execution_count": 49,
   "metadata": {},
   "outputs": [],
   "source": [
    "import pandas as pd\n",
    "import numpy as np\n",
    "\n",
    "import matplotlib.pyplot as plt\n",
    "from sklearn.linear_model import LinearRegression\n",
    "from sklearn.linear_model import BayesianRidge\n",
    "from sklearn.linear_model import Ridge\n",
    "from sklearn.ensemble import GradientBoostingRegressor\n",
    "from sklearn.model_selection import train_test_split"
   ]
  },
  {
   "cell_type": "code",
   "execution_count": 93,
   "metadata": {},
   "outputs": [],
   "source": [
    "# Load the data\n",
    "data = pd.read_csv(\"./data/players_stats.csv\")\n",
    "\n",
    "# drop Player and Link columns\n",
    "data = data.drop(columns=[\"mp\", \"g\", \"pts\", \"trb\", \"ast\"])\n",
    "\n",
    "# drop colinear columns\n",
    "data = data.drop(columns=[\"Player\", \"Link\"])\n",
    "\n",
    "# data = data[[\"Salary\", \"Age\", \"ft_pct\", \"def_rtg\", \"plus_minus_per_200_poss\", \"mp_per_g\"]]\n",
    "\n",
    "# remove Nan values\n",
    "data = data.dropna()\n",
    "\n",
    "# \"Salary\" is the target variable\n",
    "Y = data[\"Salary\"]\n",
    "X = data.drop(columns=[\"Salary\"])"
   ]
  },
  {
   "cell_type": "code",
   "execution_count": 94,
   "metadata": {},
   "outputs": [
    {
     "name": "stdout",
     "output_type": "stream",
     "text": [
      "<class 'pandas.core.frame.DataFrame'>\n",
      "Index: 273 entries, 0 to 385\n",
      "Data columns (total 28 columns):\n",
      " #   Column                   Non-Null Count  Dtype  \n",
      "---  ------                   --------------  -----  \n",
      " 0   Age                      273 non-null    int64  \n",
      " 1   Salary                   273 non-null    float64\n",
      " 2   Height_cm                273 non-null    float64\n",
      " 3   Weight_kg                273 non-null    float64\n",
      " 4   gs                       273 non-null    float64\n",
      " 5   fg                       273 non-null    float64\n",
      " 6   fga                      273 non-null    float64\n",
      " 7   fg3                      273 non-null    float64\n",
      " 8   fg3a                     273 non-null    float64\n",
      " 9   ft                       273 non-null    float64\n",
      " 10  fta                      273 non-null    float64\n",
      " 11  orb                      273 non-null    float64\n",
      " 12  stl                      273 non-null    float64\n",
      " 13  blk                      273 non-null    float64\n",
      " 14  tov                      273 non-null    float64\n",
      " 15  pf                       273 non-null    float64\n",
      " 16  fg_pct                   273 non-null    float64\n",
      " 17  fg3_pct                  273 non-null    float64\n",
      " 18  ft_pct                   273 non-null    float64\n",
      " 19  ts_pct                   273 non-null    float64\n",
      " 20  usg_pct                  273 non-null    float64\n",
      " 21  off_rtg                  273 non-null    float64\n",
      " 22  def_rtg                  273 non-null    float64\n",
      " 23  plus_minus_per_200_poss  273 non-null    float64\n",
      " 24  mp_per_g                 273 non-null    float64\n",
      " 25  pts_per_g                273 non-null    float64\n",
      " 26  trb_per_g                273 non-null    float64\n",
      " 27  ast_per_g                273 non-null    float64\n",
      "dtypes: float64(27), int64(1)\n",
      "memory usage: 61.9 KB\n"
     ]
    }
   ],
   "source": [
    "data.info()"
   ]
  },
  {
   "cell_type": "code",
   "execution_count": 86,
   "metadata": {},
   "outputs": [],
   "source": [
    "# create a test train split\n",
    "X_train, X_test, Y_train, Y_test = train_test_split(\n",
    "    X, Y, test_size=0.2, random_state=42\n",
    ")"
   ]
  },
  {
   "cell_type": "code",
   "execution_count": 87,
   "metadata": {},
   "outputs": [
    {
     "name": "stdout",
     "output_type": "stream",
     "text": [
      "R^2 score: 0.4141215298804247\n"
     ]
    }
   ],
   "source": [
    "# fit a linear model\n",
    "model = LinearRegression()\n",
    "model.fit(X_train, Y_train)\n",
    "# evaluate the model\n",
    "score = model.score(X_test, Y_test)\n",
    "print(\"R^2 score:\", score)"
   ]
  },
  {
   "cell_type": "code",
   "execution_count": 88,
   "metadata": {},
   "outputs": [
    {
     "name": "stdout",
     "output_type": "stream",
     "text": [
      "R^2 score: 0.4152294509066893\n"
     ]
    }
   ],
   "source": [
    "# fit a linear model\n",
    "model = Ridge()\n",
    "model.fit(X_train, Y_train)\n",
    "# evaluate the model\n",
    "score = model.score(X_test, Y_test)\n",
    "print(\"R^2 score:\", score)"
   ]
  },
  {
   "cell_type": "code",
   "execution_count": 89,
   "metadata": {},
   "outputs": [
    {
     "name": "stdout",
     "output_type": "stream",
     "text": [
      "R^2 score: -0.027368766195444483\n"
     ]
    }
   ],
   "source": [
    "model = BayesianRidge()\n",
    "model.fit(X_train, Y_train)\n",
    "# evaluate the model\n",
    "score = model.score(X_test, Y_test)\n",
    "print(\"R^2 score:\", score)"
   ]
  },
  {
   "cell_type": "code",
   "execution_count": 90,
   "metadata": {},
   "outputs": [
    {
     "data": {
      "text/plain": [
       "0.6482571225777825"
      ]
     },
     "execution_count": 90,
     "metadata": {},
     "output_type": "execute_result"
    }
   ],
   "source": [
    "reg = GradientBoostingRegressor()\n",
    "reg.fit(X_train, Y_train)\n",
    "reg.score(X_test, Y_test)"
   ]
  },
  {
   "cell_type": "code",
   "execution_count": 91,
   "metadata": {},
   "outputs": [
    {
     "name": "stdout",
     "output_type": "stream",
     "text": [
      "5\n",
      "Feature 0: 0.08679792155143644\n",
      "Feature 1: 0.0764774288196061\n",
      "Feature 3: 0.1037772286022248\n",
      "Feature 4: 0.7072527944136429\n"
     ]
    }
   ],
   "source": [
    "# Access feature importances\n",
    "importances = reg.feature_importances_\n",
    "\n",
    "print(len(importances))\n",
    "# Print feature importance for each feature\n",
    "for i, importance in enumerate(importances):\n",
    "    if importance > 0.05:\n",
    "        print(f\"Feature {i}: {importance}\")"
   ]
  },
  {
   "cell_type": "code",
   "execution_count": 92,
   "metadata": {},
   "outputs": [
    {
     "name": "stdout",
     "output_type": "stream",
     "text": [
      "Feature 0: 0.12804227571138224\n",
      "Feature 1: 0.07970245149111553\n",
      "Feature 2: 0.04060114153669128\n",
      "Feature 3: 0.10923952003886321\n",
      "Feature 4: 1.2078911501478118\n"
     ]
    }
   ],
   "source": [
    "from sklearn.inspection import permutation_importance\n",
    "\n",
    "# Assuming you have the model and data\n",
    "results = permutation_importance(reg, X, Y, n_repeats=100, random_state=42)\n",
    "\n",
    "results_importances = results.importances_mean\n",
    "\n",
    "# Display the importance of each feature\n",
    "# Print feature importance for each feature\n",
    "for i, importance in enumerate(results_importances):\n",
    "    if importance > 0.03:\n",
    "        print(f\"Feature {i}: {importance}\")"
   ]
  },
  {
   "cell_type": "code",
   "execution_count": null,
   "metadata": {},
   "outputs": [],
   "source": []
  }
 ],
 "metadata": {
  "kernelspec": {
   "display_name": "Python 3 (ipykernel)",
   "language": "python",
   "name": "python3"
  },
  "language_info": {
   "codemirror_mode": {
    "name": "ipython",
    "version": 3
   },
   "file_extension": ".py",
   "mimetype": "text/x-python",
   "name": "python",
   "nbconvert_exporter": "python",
   "pygments_lexer": "ipython3",
   "version": "3.11.7"
  }
 },
 "nbformat": 4,
 "nbformat_minor": 4
}
